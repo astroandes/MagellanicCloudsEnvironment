{
 "cells": [
  {
   "cell_type": "code",
   "execution_count": 1,
   "metadata": {
    "collapsed": false
   },
   "outputs": [],
   "source": [
    "import numpy as np\n",
    "import matplotlib.pyplot as plt\n",
    "#%matplotlib inline"
   ]
  },
  {
   "cell_type": "code",
   "execution_count": 6,
   "metadata": {
    "collapsed": false
   },
   "outputs": [],
   "source": [
    "def write_query(ix, iy, iz, n_web=256, n_size=1024):\n",
    "    ratio = n_size/n_web\n",
    "    query=\" select * from Bolshoi.Tweb%d m where floor(m.ix) = %d\"%(n_web, np.floor(ix/ratio))\n",
    "    query= query+\" and floor(m.iy) = %d\"%(np.floor(iy/ratio))\n",
    "    query= query+\" and floor(m.iz) = %d\"%(np.floor(iz/ratio))\n",
    "    return query\n",
    "\n",
    "def write_query_slice(ix, n_web=256, n_size=1024):\n",
    "    ratio = n_size/n_web\n",
    "    query=\" select * from Bolshoi.Tweb%d m where m.ix = 0\"%(n_web)\n",
    "    return query"
   ]
  },
  {
   "cell_type": "code",
   "execution_count": 8,
   "metadata": {
    "collapsed": false
   },
   "outputs": [],
   "source": [
    "def get_slice_web_data(cosmosim):\n",
    "    query = write_query_slice(0)\n",
    "    jobid = cosmosim.run_sql_query(query_string=query)\n",
    "    headers, data = cosmosim.download(jobid=jobid,format='csv')\n",
    "    print data\n",
    "    \n",
    "def get_web_data(cosmosim, sample_name=\"sat\"):\n",
    "    #this defines the range of the ix, iy, iz integers in the simulation\n",
    "    n_bits = 10\n",
    "    n_size = 2**n_bits\n",
    "    lbox = 250.0\n",
    "\n",
    "    sample_filename = \"../data/samples/sample%s.txt\"%(sample_name)\n",
    "    tweb_filename=\"../data/tweb/web_%d_sample%s.dat\"%(n_size, sample_name)\n",
    "    \n",
    "    #load sample data\n",
    "    halo_data = np.loadtxt(sample_filename)\n",
    "    x_halo = halo_data[:,0]\n",
    "    y_halo = halo_data[:,1]\n",
    "    z_halo = halo_data[:,2]\n",
    "\n",
    "    ix = np.int_((x_halo/lbox)*n_size)\n",
    "    iy = np.int_((y_halo/lbox)*n_size)\n",
    "    iz = int_((z_halo/lbox)*n_size)\n",
    "    print np.size(x_halo), 256**3\n",
    "    \n",
    "    # Submit jobs\n",
    "    n_points = np.size(x_halo)\n",
    "    jobs = np.zeros(n_points, dtype='int')\n",
    "    n_points = 2\n",
    "    for i in range(n_points):\n",
    "        query = write_query(ix[i], iy[i], iz[i], n_web=256, n_size=1024)\n",
    "        jobs[i] = cosmosim.run_sql_query(query_string=query)\n",
    "        print(jobs[i])\n",
    "        \n",
    "    # Download data\n",
    "    all_data = []\n",
    "    for i in range(n_points):\n",
    "        headers, data = cosmosim.download(jobid=jobs[i],format='csv')\n",
    "        print data\n",
    "        all_data.append(data[0])\n",
    "        \n",
    "    # Write the data to disk\n",
    "    fileout = open(tweb_filename, 'w')\n",
    "\n",
    "    string = \"# ID\"\n",
    "    for item in headers:\n",
    "        string = string + \" \"+item+\" \"\n",
    "    fileout.write(\" %s\\n\"%(string))\n",
    "\n",
    "    n_lines = len(all_data)\n",
    "    for i in range(n_lines):\n",
    "        string = \"%d \"%(i)\n",
    "        for item in all_data[i]:\n",
    "            string = string + \" \"+str(item)+\" \"\n",
    "        fileout.write(\"%s\\n\"%(string))\n",
    "    fileout.close()"
   ]
  },
  {
   "cell_type": "code",
   "execution_count": 4,
   "metadata": {
    "collapsed": false
   },
   "outputs": [
    {
     "name": "stdout",
     "output_type": "stream",
     "text": [
      "Please enter password for encrypted keyring: ········\n"
     ]
    },
    {
     "name": "stderr",
     "output_type": "stream",
     "text": [
      "WARNING: Using the password found in the keychain for the provided username. [astroquery.cosmosim.core]\n",
      "WARNING:astropy:Using the password found in the keychain for the provided username.\n",
      "/homecolab/je.forero/.local/lib/python2.7/site-packages/astroquery-0.3.dev2976-py2.7.egg/astroquery/cosmosim/core.py:70: UserWarning: Authenticating forero on www.cosmosim.org...\n",
      "  warnings.warn(\"Authenticating {0} on www.cosmosim.org...\".format(self.username))\n",
      "/homecolab/je.forero/.local/lib/python2.7/site-packages/astroquery-0.3.dev2976-py2.7.egg/astroquery/cosmosim/core.py:75: UserWarning: Authentication successful!\n",
      "  warnings.warn(\"Authentication successful!\")\n",
      "/homecolab/je.forero/.local/lib/python2.7/site-packages/astroquery-0.3.dev2976-py2.7.egg/astroquery/cosmosim/core.py:130: UserWarning: Status: You are logged in as forero.\n",
      "  warnings.warn(\"Status: You are logged in as {}.\".format(self.username))\n"
     ]
    },
    {
     "ename": "TypeError",
     "evalue": "get_slice_web_data() got an unexpected keyword argument 'sample_name'",
     "output_type": "error",
     "traceback": [
      "\u001b[1;31m---------------------------------------------------------------------------\u001b[0m",
      "\u001b[1;31mTypeError\u001b[0m                                 Traceback (most recent call last)",
      "\u001b[1;32m<ipython-input-4-de275cad0cfd>\u001b[0m in \u001b[0;36m<module>\u001b[1;34m()\u001b[0m\n\u001b[0;32m      3\u001b[0m \u001b[0mCS\u001b[0m\u001b[1;33m.\u001b[0m\u001b[0mlogin\u001b[0m\u001b[1;33m(\u001b[0m\u001b[0musername\u001b[0m\u001b[1;33m=\u001b[0m\u001b[1;34m\"forero\"\u001b[0m\u001b[1;33m,\u001b[0m\u001b[0mstore_password\u001b[0m\u001b[1;33m=\u001b[0m\u001b[0mTrue\u001b[0m\u001b[1;33m)\u001b[0m\u001b[1;33m\u001b[0m\u001b[0m\n\u001b[0;32m      4\u001b[0m \u001b[0mCS\u001b[0m\u001b[1;33m.\u001b[0m\u001b[0mcheck_login_status\u001b[0m\u001b[1;33m(\u001b[0m\u001b[1;33m)\u001b[0m\u001b[1;33m\u001b[0m\u001b[0m\n\u001b[1;32m----> 5\u001b[1;33m \u001b[0mget_slice_web_data\u001b[0m\u001b[1;33m(\u001b[0m\u001b[0mCS\u001b[0m\u001b[1;33m,\u001b[0m \u001b[0msample_name\u001b[0m\u001b[1;33m=\u001b[0m\u001b[1;34m\"sat\"\u001b[0m\u001b[1;33m)\u001b[0m\u001b[1;33m\u001b[0m\u001b[0m\n\u001b[0m",
      "\u001b[1;31mTypeError\u001b[0m: get_slice_web_data() got an unexpected keyword argument 'sample_name'"
     ]
    }
   ],
   "source": [
    "from astroquery.cosmosim import CosmoSim\n",
    "CS = CosmoSim()\n",
    "CS.login(username=\"forero\",store_password=True)\n",
    "CS.check_login_status()\n"
   ]
  },
  {
   "cell_type": "code",
   "execution_count": null,
   "metadata": {
    "collapsed": false
   },
   "outputs": [],
   "source": [
    "get_slice_web_data(CS)"
   ]
  },
  {
   "cell_type": "code",
   "execution_count": null,
   "metadata": {
    "collapsed": true
   },
   "outputs": [],
   "source": []
  }
 ],
 "metadata": {
  "kernelspec": {
   "display_name": "Python 2",
   "language": "python",
   "name": "python2"
  },
  "language_info": {
   "codemirror_mode": {
    "name": "ipython",
    "version": 2
   },
   "file_extension": ".py",
   "mimetype": "text/x-python",
   "name": "python",
   "nbconvert_exporter": "python",
   "pygments_lexer": "ipython2",
   "version": "2.7.10"
  }
 },
 "nbformat": 4,
 "nbformat_minor": 0
}
