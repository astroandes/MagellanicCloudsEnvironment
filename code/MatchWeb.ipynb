{
 "cells": [
  {
   "cell_type": "code",
   "execution_count": 1,
   "metadata": {
    "collapsed": false
   },
   "outputs": [],
   "source": [
    "import numpy as np\n",
    "import matplotlib.pyplot as plt\n",
    "#%matplotlib inline"
   ]
  },
  {
   "cell_type": "code",
   "execution_count": 2,
   "metadata": {
    "collapsed": false
   },
   "outputs": [],
   "source": [
    "def write_query(ix, iy, iz, n_web=256, n_size=1024):\n",
    "    ratio = n_size/n_web\n",
    "    query=\" select * from Bolshoi.Tweb%d m where floor(m.ix) = %d\"%(n_web, floor(ix/ratio))\n",
    "    query= query+\" and floor(m.iy) = %d\"%(floor(iy/ratio))\n",
    "    query= query+\" and floor(m.iz) = %d\"%(floor(iz/ratio))\n",
    "    return query"
   ]
  },
  {
   "cell_type": "code",
   "execution_count": 3,
   "metadata": {
    "collapsed": false
   },
   "outputs": [],
   "source": [
    "def get_web_data(cosmosim, sample_name=\"sat\"):\n",
    "    #this defines the range of the ix, iy, iz integers in the simulation\n",
    "    n_bits = 10\n",
    "    n_size = 2**n_bits\n",
    "    lbox = 250.0\n",
    "\n",
    "    sample_filename = \"../data/samples/sample%s.txt\"%(sample_name)\n",
    "    tweb_filename=\"../data/tweb/web_%d_sample%s.dat\"%(n_size, sample_name)\n",
    "    \n",
    "    #load sample data\n",
    "    halo_data = np.loadtxt(sample_filename)\n",
    "    x_halo = halo_data[:,0]\n",
    "    y_halo = halo_data[:,1]\n",
    "    z_halo = halo_data[:,2]\n",
    "\n",
    "    ix = int_((x_halo/lbox)*n_size)\n",
    "    iy = int_((y_halo/lbox)*n_size)\n",
    "    iz = int_((z_halo/lbox)*n_size)\n",
    "    print np.size(x_halo), 256**3\n",
    "    \n",
    "    # Submit jobs\n",
    "    n_points = np.size(x_halo)\n",
    "    jobs = np.zeros(n_points, dtype='int')\n",
    "    n_points = 2\n",
    "    for i in range(n_points):\n",
    "        query = write_query(ix[i], iy[i], iz[i], n_web=256, n_size=1024)\n",
    "        jobs[i] = cosmosim.run_sql_query(query_string=query)\n",
    "        print(jobs[i])\n",
    "        \n",
    "    # Download data\n",
    "    all_data = []\n",
    "    for i in range(n_points):\n",
    "        headers, data = cosmosim.download(jobid=jobs[i],format='csv')\n",
    "        print data\n",
    "        all_data.append(data[0])\n",
    "        \n",
    "    # Write the data to disk\n",
    "    fileout = open(tweb_filename, 'w')\n",
    "\n",
    "    string = \"# ID\"\n",
    "    for item in headers:\n",
    "        string = string + \" \"+item+\" \"\n",
    "    fileout.write(\" %s\\n\"%(string))\n",
    "\n",
    "    n_lines = len(all_data)\n",
    "    for i in range(n_lines):\n",
    "        string = \"%d \"%(i)\n",
    "        for item in all_data[i]:\n",
    "            string = string + \" \"+str(item)+\" \"\n",
    "        fileout.write(\"%s\\n\"%(string))\n",
    "    fileout.close()"
   ]
  },
  {
   "cell_type": "code",
   "execution_count": 4,
   "metadata": {
    "collapsed": false
   },
   "outputs": [
    {
     "name": "stdout",
     "output_type": "stream",
     "text": [
      "Please enter password for encrypted keyring: ········\n"
     ]
    },
    {
     "name": "stderr",
     "output_type": "stream",
     "text": [
      "WARNING: Using the password found in the keychain for the provided username. [astroquery.cosmosim.core]\n",
      "WARNING:astropy:Using the password found in the keychain for the provided username.\n",
      "/homecolab/je.forero/.local/lib/python2.7/site-packages/astroquery-0.3.dev2976-py2.7.egg/astroquery/cosmosim/core.py:70: UserWarning: Authenticating forero on www.cosmosim.org...\n",
      "  warnings.warn(\"Authenticating {0} on www.cosmosim.org...\".format(self.username))\n",
      "/homecolab/je.forero/.local/lib/python2.7/site-packages/astroquery-0.3.dev2976-py2.7.egg/astroquery/cosmosim/core.py:75: UserWarning: Authentication successful!\n",
      "  warnings.warn(\"Authentication successful!\")\n"
     ]
    },
    {
     "ename": "AttributeError",
     "evalue": "'NoneType' object has no attribute 'string'",
     "output_type": "error",
     "traceback": [
      "\u001b[1;31m---------------------------------------------------------------------------\u001b[0m",
      "\u001b[1;31mAttributeError\u001b[0m                            Traceback (most recent call last)",
      "\u001b[1;32m<ipython-input-4-8520e6dcead7>\u001b[0m in \u001b[0;36m<module>\u001b[1;34m()\u001b[0m\n\u001b[0;32m      1\u001b[0m \u001b[1;32mfrom\u001b[0m \u001b[0mastroquery\u001b[0m\u001b[1;33m.\u001b[0m\u001b[0mcosmosim\u001b[0m \u001b[1;32mimport\u001b[0m \u001b[0mCosmoSim\u001b[0m\u001b[1;33m\u001b[0m\u001b[0m\n\u001b[0;32m      2\u001b[0m \u001b[0mCS\u001b[0m \u001b[1;33m=\u001b[0m \u001b[0mCosmoSim\u001b[0m\u001b[1;33m(\u001b[0m\u001b[1;33m)\u001b[0m\u001b[1;33m\u001b[0m\u001b[0m\n\u001b[1;32m----> 3\u001b[1;33m \u001b[0mCS\u001b[0m\u001b[1;33m.\u001b[0m\u001b[0mlogin\u001b[0m\u001b[1;33m(\u001b[0m\u001b[0musername\u001b[0m\u001b[1;33m=\u001b[0m\u001b[1;34m\"forero\"\u001b[0m\u001b[1;33m,\u001b[0m\u001b[0mstore_password\u001b[0m\u001b[1;33m=\u001b[0m\u001b[0mTrue\u001b[0m\u001b[1;33m)\u001b[0m\u001b[1;33m\u001b[0m\u001b[0m\n\u001b[0m\u001b[0;32m      4\u001b[0m \u001b[0mCS\u001b[0m\u001b[1;33m.\u001b[0m\u001b[0mcheck_login_status\u001b[0m\u001b[1;33m(\u001b[0m\u001b[1;33m)\u001b[0m\u001b[1;33m\u001b[0m\u001b[0m\n\u001b[0;32m      5\u001b[0m \u001b[0mget_web_data\u001b[0m\u001b[1;33m(\u001b[0m\u001b[0mCS\u001b[0m\u001b[1;33m,\u001b[0m \u001b[0msample_name\u001b[0m\u001b[1;33m=\u001b[0m\u001b[1;34m\"sat\"\u001b[0m\u001b[1;33m)\u001b[0m\u001b[1;33m\u001b[0m\u001b[0m\n",
      "\u001b[1;32m/homecolab/je.forero/.local/lib/python2.7/site-packages/astroquery-0.3.dev2976-py2.7.egg/astroquery/query.pyc\u001b[0m in \u001b[0;36mlogin\u001b[1;34m(self, *args, **kwargs)\u001b[0m\n\u001b[0;32m    248\u001b[0m     \u001b[1;32mdef\u001b[0m \u001b[0mlogin\u001b[0m\u001b[1;33m(\u001b[0m\u001b[0mself\u001b[0m\u001b[1;33m,\u001b[0m \u001b[1;33m*\u001b[0m\u001b[0margs\u001b[0m\u001b[1;33m,\u001b[0m \u001b[1;33m**\u001b[0m\u001b[0mkwargs\u001b[0m\u001b[1;33m)\u001b[0m\u001b[1;33m:\u001b[0m\u001b[1;33m\u001b[0m\u001b[0m\n\u001b[0;32m    249\u001b[0m         \u001b[1;32mwith\u001b[0m \u001b[0msuspend_cache\u001b[0m\u001b[1;33m(\u001b[0m\u001b[0mself\u001b[0m\u001b[1;33m)\u001b[0m\u001b[1;33m:\u001b[0m\u001b[1;33m\u001b[0m\u001b[0m\n\u001b[1;32m--> 250\u001b[1;33m             \u001b[0mself\u001b[0m\u001b[1;33m.\u001b[0m\u001b[0m_authenticated\u001b[0m \u001b[1;33m=\u001b[0m \u001b[0mself\u001b[0m\u001b[1;33m.\u001b[0m\u001b[0m_login\u001b[0m\u001b[1;33m(\u001b[0m\u001b[1;33m*\u001b[0m\u001b[0margs\u001b[0m\u001b[1;33m,\u001b[0m \u001b[1;33m**\u001b[0m\u001b[0mkwargs\u001b[0m\u001b[1;33m)\u001b[0m\u001b[1;33m\u001b[0m\u001b[0m\n\u001b[0m\u001b[0;32m    251\u001b[0m         \u001b[1;32mreturn\u001b[0m \u001b[0mself\u001b[0m\u001b[1;33m.\u001b[0m\u001b[0m_authenticated\u001b[0m\u001b[1;33m\u001b[0m\u001b[0m\n\u001b[0;32m    252\u001b[0m \u001b[1;33m\u001b[0m\u001b[0m\n",
      "\u001b[1;32m/homecolab/je.forero/.local/lib/python2.7/site-packages/astroquery-0.3.dev2976-py2.7.egg/astroquery/cosmosim/core.pyc\u001b[0m in \u001b[0;36m_login\u001b[1;34m(self, username, password, store_password)\u001b[0m\n\u001b[0;32m     88\u001b[0m         \u001b[1;32mif\u001b[0m \u001b[0mauthenticated\u001b[0m\u001b[1;33m.\u001b[0m\u001b[0mstatus_code\u001b[0m \u001b[1;33m==\u001b[0m \u001b[1;36m200\u001b[0m\u001b[1;33m:\u001b[0m\u001b[1;33m\u001b[0m\u001b[0m\n\u001b[0;32m     89\u001b[0m             \u001b[0msoup\u001b[0m \u001b[1;33m=\u001b[0m \u001b[0mBeautifulSoup\u001b[0m\u001b[1;33m(\u001b[0m\u001b[0mauthenticated\u001b[0m\u001b[1;33m.\u001b[0m\u001b[0mcontent\u001b[0m\u001b[1;33m)\u001b[0m\u001b[1;33m\u001b[0m\u001b[0m\n\u001b[1;32m---> 90\u001b[1;33m             \u001b[0mself\u001b[0m\u001b[1;33m.\u001b[0m\u001b[0mdelete_job\u001b[0m\u001b[1;33m(\u001b[0m\u001b[0mjobid\u001b[0m\u001b[1;33m=\u001b[0m\u001b[0mstr\u001b[0m\u001b[1;33m(\u001b[0m\u001b[0msoup\u001b[0m\u001b[1;33m.\u001b[0m\u001b[0mfind\u001b[0m\u001b[1;33m(\u001b[0m\u001b[1;34m\"uws:jobid\"\u001b[0m\u001b[1;33m)\u001b[0m\u001b[1;33m.\u001b[0m\u001b[0mstring\u001b[0m\u001b[1;33m)\u001b[0m\u001b[1;33m,\u001b[0m\u001b[0msquash\u001b[0m\u001b[1;33m=\u001b[0m\u001b[0mTrue\u001b[0m\u001b[1;33m)\u001b[0m\u001b[1;33m\u001b[0m\u001b[0m\n\u001b[0m\u001b[0;32m     91\u001b[0m \u001b[1;33m\u001b[0m\u001b[0m\n\u001b[0;32m     92\u001b[0m         \u001b[1;32mreturn\u001b[0m \u001b[0mauthenticated\u001b[0m\u001b[1;33m\u001b[0m\u001b[0m\n",
      "\u001b[1;31mAttributeError\u001b[0m: 'NoneType' object has no attribute 'string'"
     ]
    }
   ],
   "source": [
    "from astroquery.cosmosim import CosmoSim\n",
    "CS = CosmoSim()\n",
    "CS.login(username=\"forero\",store_password=True)\n",
    "CS.check_login_status()\n",
    "get_web_data(CS, sample_name=\"sat\")"
   ]
  },
  {
   "cell_type": "code",
   "execution_count": null,
   "metadata": {
    "collapsed": true
   },
   "outputs": [],
   "source": []
  }
 ],
 "metadata": {
  "kernelspec": {
   "display_name": "Python 2",
   "language": "python",
   "name": "python2"
  },
  "language_info": {
   "codemirror_mode": {
    "name": "ipython",
    "version": 2
   },
   "file_extension": ".py",
   "mimetype": "text/x-python",
   "name": "python",
   "nbconvert_exporter": "python",
   "pygments_lexer": "ipython2",
   "version": "2.7.10"
  }
 },
 "nbformat": 4,
 "nbformat_minor": 0
}
