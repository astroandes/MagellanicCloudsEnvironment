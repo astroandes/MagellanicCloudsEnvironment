{
 "cells": [
  {
   "cell_type": "code",
   "execution_count": 1,
   "metadata": {
    "collapsed": false
   },
   "outputs": [
    {
     "name": "stdout",
     "output_type": "stream",
     "text": [
      "Populating the interactive namespace from numpy and matplotlib\n"
     ]
    }
   ],
   "source": [
    "pylab inline"
   ]
  },
  {
   "cell_type": "code",
   "execution_count": 2,
   "metadata": {
    "collapsed": false
   },
   "outputs": [],
   "source": [
    "from astroquery.cosmosim import CosmoSim"
   ]
  },
  {
   "cell_type": "code",
   "execution_count": 3,
   "metadata": {
    "collapsed": true
   },
   "outputs": [],
   "source": [
    "CS = CosmoSim()"
   ]
  },
  {
   "cell_type": "code",
   "execution_count": 4,
   "metadata": {
    "collapsed": false
   },
   "outputs": [
    {
     "name": "stdout",
     "output_type": "stream",
     "text": [
      "Please enter password for encrypted keyring: ········\n"
     ]
    },
    {
     "name": "stderr",
     "output_type": "stream",
     "text": [
      "WARNING: Using the password found in the keychain for the provided username. [astroquery.cosmosim.core]\n",
      "WARNING:astropy:Using the password found in the keychain for the provided username.\n",
      "/homecolab/je.forero/.local/lib/python2.7/site-packages/astroquery-0.3.dev2976-py2.7.egg/astroquery/cosmosim/core.py:70: UserWarning: Authenticating forero on www.cosmosim.org...\n",
      "  warnings.warn(\"Authenticating {0} on www.cosmosim.org...\".format(self.username))\n",
      "/homecolab/je.forero/.local/lib/python2.7/site-packages/astroquery-0.3.dev2976-py2.7.egg/astroquery/cosmosim/core.py:75: UserWarning: Authentication successful!\n",
      "  warnings.warn(\"Authentication successful!\")\n"
     ]
    },
    {
     "ename": "AttributeError",
     "evalue": "'NoneType' object has no attribute 'string'",
     "output_type": "error",
     "traceback": [
      "\u001b[1;31m---------------------------------------------------------------------------\u001b[0m",
      "\u001b[1;31mAttributeError\u001b[0m                            Traceback (most recent call last)",
      "\u001b[1;32m<ipython-input-4-ae29e9d8b28a>\u001b[0m in \u001b[0;36m<module>\u001b[1;34m()\u001b[0m\n\u001b[1;32m----> 1\u001b[1;33m \u001b[0mCS\u001b[0m\u001b[1;33m.\u001b[0m\u001b[0mlogin\u001b[0m\u001b[1;33m(\u001b[0m\u001b[0musername\u001b[0m\u001b[1;33m=\u001b[0m\u001b[1;34m\"forero\"\u001b[0m\u001b[1;33m,\u001b[0m\u001b[0mstore_password\u001b[0m\u001b[1;33m=\u001b[0m\u001b[0mTrue\u001b[0m\u001b[1;33m)\u001b[0m\u001b[1;33m\u001b[0m\u001b[0m\n\u001b[0m",
      "\u001b[1;32m/homecolab/je.forero/.local/lib/python2.7/site-packages/astroquery-0.3.dev2976-py2.7.egg/astroquery/query.pyc\u001b[0m in \u001b[0;36mlogin\u001b[1;34m(self, *args, **kwargs)\u001b[0m\n\u001b[0;32m    248\u001b[0m     \u001b[1;32mdef\u001b[0m \u001b[0mlogin\u001b[0m\u001b[1;33m(\u001b[0m\u001b[0mself\u001b[0m\u001b[1;33m,\u001b[0m \u001b[1;33m*\u001b[0m\u001b[0margs\u001b[0m\u001b[1;33m,\u001b[0m \u001b[1;33m**\u001b[0m\u001b[0mkwargs\u001b[0m\u001b[1;33m)\u001b[0m\u001b[1;33m:\u001b[0m\u001b[1;33m\u001b[0m\u001b[0m\n\u001b[0;32m    249\u001b[0m         \u001b[1;32mwith\u001b[0m \u001b[0msuspend_cache\u001b[0m\u001b[1;33m(\u001b[0m\u001b[0mself\u001b[0m\u001b[1;33m)\u001b[0m\u001b[1;33m:\u001b[0m\u001b[1;33m\u001b[0m\u001b[0m\n\u001b[1;32m--> 250\u001b[1;33m             \u001b[0mself\u001b[0m\u001b[1;33m.\u001b[0m\u001b[0m_authenticated\u001b[0m \u001b[1;33m=\u001b[0m \u001b[0mself\u001b[0m\u001b[1;33m.\u001b[0m\u001b[0m_login\u001b[0m\u001b[1;33m(\u001b[0m\u001b[1;33m*\u001b[0m\u001b[0margs\u001b[0m\u001b[1;33m,\u001b[0m \u001b[1;33m**\u001b[0m\u001b[0mkwargs\u001b[0m\u001b[1;33m)\u001b[0m\u001b[1;33m\u001b[0m\u001b[0m\n\u001b[0m\u001b[0;32m    251\u001b[0m         \u001b[1;32mreturn\u001b[0m \u001b[0mself\u001b[0m\u001b[1;33m.\u001b[0m\u001b[0m_authenticated\u001b[0m\u001b[1;33m\u001b[0m\u001b[0m\n\u001b[0;32m    252\u001b[0m \u001b[1;33m\u001b[0m\u001b[0m\n",
      "\u001b[1;32m/homecolab/je.forero/.local/lib/python2.7/site-packages/astroquery-0.3.dev2976-py2.7.egg/astroquery/cosmosim/core.pyc\u001b[0m in \u001b[0;36m_login\u001b[1;34m(self, username, password, store_password)\u001b[0m\n\u001b[0;32m     88\u001b[0m         \u001b[1;32mif\u001b[0m \u001b[0mauthenticated\u001b[0m\u001b[1;33m.\u001b[0m\u001b[0mstatus_code\u001b[0m \u001b[1;33m==\u001b[0m \u001b[1;36m200\u001b[0m\u001b[1;33m:\u001b[0m\u001b[1;33m\u001b[0m\u001b[0m\n\u001b[0;32m     89\u001b[0m             \u001b[0msoup\u001b[0m \u001b[1;33m=\u001b[0m \u001b[0mBeautifulSoup\u001b[0m\u001b[1;33m(\u001b[0m\u001b[0mauthenticated\u001b[0m\u001b[1;33m.\u001b[0m\u001b[0mcontent\u001b[0m\u001b[1;33m)\u001b[0m\u001b[1;33m\u001b[0m\u001b[0m\n\u001b[1;32m---> 90\u001b[1;33m             \u001b[0mself\u001b[0m\u001b[1;33m.\u001b[0m\u001b[0mdelete_job\u001b[0m\u001b[1;33m(\u001b[0m\u001b[0mjobid\u001b[0m\u001b[1;33m=\u001b[0m\u001b[0mstr\u001b[0m\u001b[1;33m(\u001b[0m\u001b[0msoup\u001b[0m\u001b[1;33m.\u001b[0m\u001b[0mfind\u001b[0m\u001b[1;33m(\u001b[0m\u001b[1;34m\"uws:jobid\"\u001b[0m\u001b[1;33m)\u001b[0m\u001b[1;33m.\u001b[0m\u001b[0mstring\u001b[0m\u001b[1;33m)\u001b[0m\u001b[1;33m,\u001b[0m\u001b[0msquash\u001b[0m\u001b[1;33m=\u001b[0m\u001b[0mTrue\u001b[0m\u001b[1;33m)\u001b[0m\u001b[1;33m\u001b[0m\u001b[0m\n\u001b[0m\u001b[0;32m     91\u001b[0m \u001b[1;33m\u001b[0m\u001b[0m\n\u001b[0;32m     92\u001b[0m         \u001b[1;32mreturn\u001b[0m \u001b[0mauthenticated\u001b[0m\u001b[1;33m\u001b[0m\u001b[0m\n",
      "\u001b[1;31mAttributeError\u001b[0m: 'NoneType' object has no attribute 'string'"
     ]
    }
   ],
   "source": [
    "CS.login(username=\"forero\",store_password=True)"
   ]
  },
  {
   "cell_type": "code",
   "execution_count": 5,
   "metadata": {
    "collapsed": false
   },
   "outputs": [
    {
     "name": "stderr",
     "output_type": "stream",
     "text": [
      "/homecolab/je.forero/.local/lib/python2.7/site-packages/astroquery-0.3.dev2976-py2.7.egg/astroquery/cosmosim/core.py:130: UserWarning: Status: You are logged in as forero.\n",
      "  warnings.warn(\"Status: You are logged in as {}.\".format(self.username))\n"
     ]
    }
   ],
   "source": [
    "CS.check_login_status()"
   ]
  },
  {
   "cell_type": "code",
   "execution_count": 10,
   "metadata": {
    "collapsed": false
   },
   "outputs": [],
   "source": [
    "sql_query=\"SELECT DISTINCT * FROM Bolshoi.Redshifts ORDER BY snapnum DESC\"\n",
    "job_id = CS.run_sql_query(query_string=sql_query)"
   ]
  },
  {
   "cell_type": "code",
   "execution_count": 14,
   "metadata": {
    "collapsed": true
   },
   "outputs": [],
   "source": [
    "headers, data = CS.download(jobid=job_id,format='csv')"
   ]
  },
  {
   "cell_type": "code",
   "execution_count": 39,
   "metadata": {
    "collapsed": false
   },
   "outputs": [],
   "source": [
    "def write_query(ix, iy, iz, n_web=256, n_size=1024):\n",
    "    ratio = n_size/n_web\n",
    "    query=\" select * from Bolshoi.Tweb%d m where floor(m.ix) = %d\"%(n_web, floor(ix/ratio))\n",
    "    query= query+\" and floor(m.iy) = %d\"%(floor(iy/ratio))\n",
    "    query= query+\" and floor(m.iz) = %d\"%(floor(iz/ratio))\n",
    "    return query"
   ]
  },
  {
   "cell_type": "code",
   "execution_count": 25,
   "metadata": {
    "collapsed": false
   },
   "outputs": [
    {
     "name": "stderr",
     "output_type": "stream",
     "text": [
      "/homecolab/je.forero/.local/lib/python2.7/site-packages/astroquery-0.3.dev2976-py2.7.egg/astroquery/cosmosim/core.py:204: UserWarning: Job created: 368666848075061\n",
      "  warnings.warn(\"Job created: {}\".format(self.current_job))\n"
     ]
    }
   ],
   "source": [
    "query = write_query(0,0,0)\n",
    "job_id = CS.run_sql_query(query_string=query)"
   ]
  },
  {
   "cell_type": "code",
   "execution_count": 26,
   "metadata": {
    "collapsed": false
   },
   "outputs": [
    {
     "name": "stderr",
     "output_type": "stream",
     "text": [
      "INFO:astropy:Job 368666848075061: COMPLETED\n"
     ]
    },
    {
     "name": "stdout",
     "output_type": "stream",
     "text": [
      "INFO: Job 368666848075061: COMPLETED [astroquery.cosmosim.core]\n"
     ]
    },
    {
     "data": {
      "text/plain": [
       "'COMPLETED'"
      ]
     },
     "execution_count": 26,
     "metadata": {},
     "output_type": "execute_result"
    }
   ],
   "source": [
    "CS.check_job_status(jobid=job_id)"
   ]
  },
  {
   "cell_type": "code",
   "execution_count": 33,
   "metadata": {
    "collapsed": false
   },
   "outputs": [],
   "source": [
    "headers, data = CS.download(jobid=job_id,format='csv')"
   ]
  },
  {
   "cell_type": "code",
   "execution_count": 32,
   "metadata": {
    "collapsed": false
   },
   "outputs": [
    {
     "name": "stdout",
     "output_type": "stream",
     "text": [
      "['row_id', 'm__webId', 'm__ix', 'm__iy', 'm__iz', 'm__phkey', 'm__eigen1', 'm__eigen2', 'm__eigen3', 'm__ev1_x', 'm__ev1_y', 'm__ev1_z', 'm__ev2_x', 'm__ev2_y', 'm__ev2_z', 'm__ev3_x', 'm__ev3_y', 'm__ev3_z'] [[1, 0, 0, 0, 0, 0, 0.13395200669765472, -0.13198000192642212, -0.431863009929657, 0.7281330227851868, 0.6853790283203125, 0.008839000016450882, -0.1409430056810379, 0.13708999752998352, 0.9804800152778625, 0.6707879900932312, -0.7151659727096558, 0.19641900062561035]]\n"
     ]
    }
   ],
   "source": [
    "print headers, data"
   ]
  },
  {
   "cell_type": "code",
   "execution_count": 36,
   "metadata": {
    "collapsed": true
   },
   "outputs": [],
   "source": [
    "#this defines the range of the ix, iy, iz integers in the simulation\n",
    "n_bits = 10\n",
    "n_size = 2**n_bits\n",
    "lbox = 250.0"
   ]
  },
  {
   "cell_type": "code",
   "execution_count": 45,
   "metadata": {
    "collapsed": false
   },
   "outputs": [
    {
     "name": "stdout",
     "output_type": "stream",
     "text": [
      "368667228402893\n",
      "368667234810341\n",
      "368667241518440\n",
      "368667248556538\n",
      "368667256094610\n",
      "368667263815392\n",
      "368667271887363\n",
      "368667279707118\n",
      "368667287769778\n",
      "368667296089270\n"
     ]
    }
   ],
   "source": [
    "halo_data = loadtxt(\"../data/samples/samplemc1.txt\")\n",
    "x_halo = halo_data[:,0]\n",
    "y_halo = halo_data[:,1]\n",
    "z_halo = halo_data[:,2]\n",
    "\n",
    "ix = int_((x_halo/lbox)*n_size)\n",
    "iy = int_((y_halo/lbox)*n_size)\n",
    "iz = int_((z_halo/lbox)*n_size)\n",
    "\n",
    "n_points = size(x_halo)\n",
    "jobs = zeros(n_points, dtype='int')\n",
    "n_points = 10\n",
    "for i in range(n_points):\n",
    "    query = write_query(ix[i], iy[i], iz[i], n_web=256, n_size=1024)\n",
    "    jobs[i] = CS.run_sql_query(query_string=query)\n",
    "    print(jobs[i])"
   ]
  },
  {
   "cell_type": "code",
   "execution_count": 47,
   "metadata": {
    "collapsed": false
   },
   "outputs": [
    {
     "name": "stdout",
     "output_type": "stream",
     "text": [
      "[[1, 923186, 50, 22, 14, 59032, 2.5469210147857666, 0.9401429891586304, -0.26507800817489624, -0.08598499745130539, 0.22739100456237793, 0.9700000286102295, -0.30970999598503113, -0.9314690232276917, 0.19090500473976135, 0.9469349980354309, -0.28400400280952454, 0.15051700174808502]]\n",
      "[[1, 1312373, 117, 6, 20, 2091471, 0.7646160125732422, 0.016279000788927078, -0.42426198720932007, 0.8112559914588928, -0.5771909952163696, 0.09335000067949295, 0.4598889946937561, 0.7285000085830688, 0.5077289938926697, -0.3610619902610779, -0.36896800994873047, 0.8564440011978149]]\n",
      "[[1, 531383, 183, 27, 8, 2329024, 1.1750719547271729, 1.1234849691390991, 0.6317129731178284, -0.5720210075378418, 0.38906800746917725, 0.7220929861068726, 0.02643899992108345, -0.8711410164833069, 0.49031999707221985, 0.8198130130767822, 0.29956498742103577, 0.4880250096321106]]\n",
      "[[1, 1905078, 182, 17, 29, 2342458, 3.0875909328460693, 0.8946290016174316, -1.277325987815857, 0.13539299368858337, -0.4108569920063019, 0.9015899896621704, -0.7650499939918518, 0.534866988658905, 0.3586289882659912, 0.6295769810676575, 0.7383180260658264, 0.241908997297287]]\n",
      "[[1, 2500800, 192, 40, 38, 2517582, 1.6671040058135986, 0.5331910252571106, 0.4178900122642517, 0.2521669864654541, -0.6189259886741638, 0.7438700199127197, -0.2031569927930832, 0.7177199721336365, 0.6660370230674744, -0.9461179971694946, -0.31907498836517334, 0.05524599924683571]]\n",
      "[[1, 3154868, 180, 35, 48, 2280541, 1.1635700464248657, 0.40772300958633423, -0.03244699910283089, 0.9789810180664062, -0.1945900022983551, 0.06107499822974205, -0.18003599345684052, -0.6838359832763672, 0.7070749998092651, 0.09582400321960449, 0.7032089829444885, 0.7044960260391235]]\n",
      "[[1, 1729892, 100, 101, 26, 1146553, 0.6518219709396362, 0.4444339871406555, 0.24579499661922455, 0.18827900290489197, -0.6908649802207947, 0.6980379819869995, 0.5286549925804138, 0.670287013053894, 0.5208070278167725, -0.827692985534668, 0.27096399664878845, 0.49143001437187195]]\n",
      "[[1, 1064557, 109, 62, 16, 1968271, 2.342278003692627, 0.970441997051239, 0.3893269896507263, 0.007102999836206436, 0.8770260214805603, 0.4803900122642517, 0.970425009727478, -0.12196800112724304, 0.20832400023937225, -0.24129800498485565, -0.4647029936313629, 0.851954996585846]]\n",
      "[[1, 1855383, 151, 79, 28, 4137186, 1.480944037437439, 0.7299119830131531, -0.40252599120140076, -0.29772698879241943, 0.26802799105644226, 0.9162529706954956, 0.3747830092906952, -0.8499060273170471, 0.3704020082950592, 0.8780069947242737, 0.4536750018596649, 0.15258799493312836]]\n",
      "[[1, 1724047, 143, 78, 26, 4136745, 3.1693971157073975, 0.6362249851226807, 0.2052920013666153, -0.40026700496673584, 0.3325349986553192, 0.8539360165596008, 0.8715440034866333, 0.4260990023612976, 0.2425920069217682, 0.2831909954547882, -0.8413450121879578, 0.4603720009326935]]\n"
     ]
    }
   ],
   "source": [
    "all_data = []\n",
    "for i in range(n_points):\n",
    "    headers, data = CS.download(jobid=jobs[i],format='csv')\n",
    "    print data\n",
    "    all_data.append(data[0])"
   ]
  },
  {
   "cell_type": "code",
   "execution_count": 58,
   "metadata": {
    "collapsed": false
   },
   "outputs": [],
   "source": [
    "fileout = open('fileout.dat', 'w')\n",
    "\n",
    "string = \"\"\n",
    "for item in headers:\n",
    "    string = string + \" \"+item+\" \"\n",
    "fileout.write(\"# %s\\n\"%(string))\n",
    "\n",
    "n_lines = len(all_data)\n",
    "for i in range(n_lines):\n",
    "    string = \"\"\n",
    "    for item in all_data[i]:\n",
    "        string = string + \" \"+str(item)+\" \"\n",
    "    fileout.write(\"%s\\n\"%(string))\n",
    "fileout.close()"
   ]
  },
  {
   "cell_type": "code",
   "execution_count": 59,
   "metadata": {
    "collapsed": true
   },
   "outputs": [],
   "source": [
    "data = loadtxt(\"fileout.dat\")\n",
    "trace = data[:,6] + data[:,7] + data[:,8]"
   ]
  },
  {
   "cell_type": "code",
   "execution_count": 61,
   "metadata": {
    "collapsed": false
   },
   "outputs": [
    {
     "data": {
      "image/png": "[encoded data removed]",
      "text/plain": [
       "<matplotlib.figure.Figure at 0x7ff758d22750>"
      ]
     },
     "metadata": {},
     "output_type": "display_data"
    }
   ],
   "source": [
    "a=hist(trace)"
   ]
  },
  {
   "cell_type": "code",
   "execution_count": null,
   "metadata": {
    "collapsed": true
   },
   "outputs": [],
   "source": []
  }
 ],
 "metadata": {
  "kernelspec": {
   "display_name": "Python 2",
   "language": "python",
   "name": "python2"
  },
  "language_info": {
   "codemirror_mode": {
    "name": "ipython",
    "version": 2
   },
   "file_extension": ".py",
   "mimetype": "text/x-python",
   "name": "python",
   "nbconvert_exporter": "python",
   "pygments_lexer": "ipython2",
   "version": "2.7.10"
  }
 },
 "nbformat": 4,
 "nbformat_minor": 0
}
