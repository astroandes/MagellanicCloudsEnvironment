{
 "cells": [
  {
   "cell_type": "code",
   "execution_count": 21,
   "metadata": {
    "collapsed": false
   },
   "outputs": [],
   "source": [
    "import numpy as np\n",
    "import matplotlib.pyplot as plt\n",
    "#%matplotlib inline"
   ]
  },
  {
   "cell_type": "code",
   "execution_count": 3,
   "metadata": {
    "collapsed": true
   },
   "outputs": [],
   "source": []
  },
  {
   "cell_type": "code",
   "execution_count": 6,
   "metadata": {
    "collapsed": false
   },
   "outputs": [],
   "source": [
    "def write_query(ix, iy, iz, n_web=256, n_size=1024):\n",
    "    ratio = n_size/n_web\n",
    "    query=\" select * from Bolshoi.Tweb%d m where floor(m.ix) = %d\"%(n_web, floor(ix/ratio))\n",
    "    query= query+\" and floor(m.iy) = %d\"%(floor(iy/ratio))\n",
    "    query= query+\" and floor(m.iz) = %d\"%(floor(iz/ratio))\n",
    "    return query"
   ]
  },
  {
   "cell_type": "code",
   "execution_count": 20,
   "metadata": {
    "collapsed": false
   },
   "outputs": [],
   "source": [
    "def get_web_data(cosmosim, sample_name=\"sat\"):\n",
    "    #this defines the range of the ix, iy, iz integers in the simulation\n",
    "    n_bits = 10\n",
    "    n_size = 2**n_bits\n",
    "    lbox = 250.0\n",
    "\n",
    "    sample_filename = \"../data/samples/sample%s.txt\"%(sample_name)\n",
    "    tweb_filename=\"../data/tweb/web_%d_sample%s.dat\"%(n_size, sample_name)\n",
    "    \n",
    "    #load sample data\n",
    "    halo_data = np.loadtxt(sample_filename)\n",
    "    x_halo = halo_data[:,0]\n",
    "    y_halo = halo_data[:,1]\n",
    "    z_halo = halo_data[:,2]\n",
    "\n",
    "    ix = int_((x_halo/lbox)*n_size)\n",
    "    iy = int_((y_halo/lbox)*n_size)\n",
    "    iz = int_((z_halo/lbox)*n_size)\n",
    "    print np.size(x_halo), 256**3\n",
    "    \n",
    "    # Submit jobs\n",
    "    n_points = np.size(x_halo)\n",
    "    jobs = np.zeros(n_points, dtype='int')\n",
    "    n_points = 2\n",
    "    for i in range(n_points):\n",
    "        query = write_query(ix[i], iy[i], iz[i], n_web=256, n_size=1024)\n",
    "        jobs[i] = cosmosim.run_sql_query(query_string=query)\n",
    "        print(jobs[i])\n",
    "        \n",
    "    # Download data\n",
    "    all_data = []\n",
    "    for i in range(n_points):\n",
    "        headers, data = cosmosim.download(jobid=jobs[i],format='csv')\n",
    "        print data\n",
    "        all_data.append(data[0])\n",
    "        \n",
    "    # Write the data to disk\n",
    "    fileout = open(tweb_filename, 'w')\n",
    "\n",
    "    string = \"# ID\"\n",
    "    for item in headers:\n",
    "        string = string + \" \"+item+\" \"\n",
    "    fileout.write(\" %s\\n\"%(string))\n",
    "\n",
    "    n_lines = len(all_data)\n",
    "    for i in range(n_lines):\n",
    "        string = \"%d \"%(i)\n",
    "        for item in all_data[i]:\n",
    "            string = string + \" \"+str(item)+\" \"\n",
    "        fileout.write(\"%s\\n\"%(string))\n",
    "    fileout.close()"
   ]
  },
  {
   "cell_type": "code",
   "execution_count": null,
   "metadata": {
    "collapsed": true
   },
   "outputs": [],
   "source": [
    "from astroquery.cosmosim import CosmoSim\n",
    "CS = CosmoSim()\n",
    "CS.login(username=\"forero\",store_password=True)\n",
    "CS.check_login_status()\n",
    "get_web_data(CS, sample_name=\"sat\")"
   ]
  }
 ],
 "metadata": {
  "kernelspec": {
   "display_name": "Python 2",
   "language": "python",
   "name": "python2"
  },
  "language_info": {
   "codemirror_mode": {
    "name": "ipython",
    "version": 2
   },
   "file_extension": ".py",
   "mimetype": "text/x-python",
   "name": "python",
   "nbconvert_exporter": "python",
   "pygments_lexer": "ipython2",
   "version": "2.7.10"
  }
 },
 "nbformat": 4,
 "nbformat_minor": 0
}
